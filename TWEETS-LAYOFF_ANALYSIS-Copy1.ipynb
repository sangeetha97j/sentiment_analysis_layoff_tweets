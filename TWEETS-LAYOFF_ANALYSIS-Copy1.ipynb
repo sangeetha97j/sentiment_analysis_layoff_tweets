{
 "cells": [
  {
   "cell_type": "code",
   "execution_count": 1,
   "id": "81009203",
   "metadata": {},
   "outputs": [],
   "source": [
    "import pandas as pd \n",
    "import numpy as np \n",
    "import seaborn as sns \n",
    "import matplotlib.pyplot as plt \n",
    "import plotly.express as px\n",
    "%matplotlib notebook \n"
   ]
  },
  {
   "cell_type": "code",
   "execution_count": null,
   "id": "2a16d984",
   "metadata": {},
   "outputs": [],
   "source": [
    "tweet_analysis=pd.read_csv(\"tweetsnew.csv\")\n",
    "df=tweet_analysis.copy()\n",
    "df.head()  "
   ]
  },
  {
   "cell_type": "code",
   "execution_count": null,
   "id": "0d5fa5a2",
   "metadata": {},
   "outputs": [],
   "source": [
    "df.info()"
   ]
  },
  {
   "cell_type": "code",
   "execution_count": null,
   "id": "9d4c5415",
   "metadata": {},
   "outputs": [],
   "source": [
    "df.shape"
   ]
  },
  {
   "cell_type": "code",
   "execution_count": null,
   "id": "fe979146",
   "metadata": {},
   "outputs": [],
   "source": [
    "df.nunique()"
   ]
  },
  {
   "cell_type": "code",
   "execution_count": null,
   "id": "da2f543b",
   "metadata": {},
   "outputs": [],
   "source": [
    "df.isnull().sum()"
   ]
  },
  {
   "cell_type": "code",
   "execution_count": null,
   "id": "da11dc76",
   "metadata": {},
   "outputs": [],
   "source": [
    "df.columns"
   ]
  },
  {
   "cell_type": "code",
   "execution_count": null,
   "id": "eda7a27a",
   "metadata": {},
   "outputs": [],
   "source": [
    "df2=df.drop([\"Unnamed: 0\",\"source of tweet\", \"Date\",\"User\",\"Tweet\",\"language\",\"media\",\"mentioned user in tweet\"],axis=1)"
   ]
  },
  {
   "cell_type": "code",
   "execution_count": null,
   "id": "ef5a4e99",
   "metadata": {},
   "outputs": [],
   "source": [
    "df2.max()"
   ]
  },
  {
   "cell_type": "code",
   "execution_count": null,
   "id": "b5c5d4c7",
   "metadata": {},
   "outputs": [],
   "source": [
    "corr = df2.corr()\n",
    "corr.style.background_gradient(cmap ='coolwarm')"
   ]
  },
  {
   "cell_type": "markdown",
   "id": "6e161606",
   "metadata": {},
   "source": [
    "# datetime which is in the ISO 8601 format to date format\n",
    "yyyy-mm-dd HH:MM:SS and the time zone offset in the format \"+/-HH:MM) to \"yyyy-mm-dd\"."
   ]
  },
  {
   "cell_type": "code",
   "execution_count": null,
   "id": "3f9dbcf9",
   "metadata": {},
   "outputs": [],
   "source": [
    "df['Date'] = pd.to_datetime(df['Date']).dt.date\n",
    "df"
   ]
  },
  {
   "cell_type": "code",
   "execution_count": null,
   "id": "6e0e83c3",
   "metadata": {},
   "outputs": [],
   "source": [
    "date=pd.DataFrame(df['Date'].value_counts())\n",
    "date.plot.bar()"
   ]
  },
  {
   "cell_type": "code",
   "execution_count": null,
   "id": "d16ee36c",
   "metadata": {},
   "outputs": [],
   "source": [
    "language=pd.DataFrame(df['language'].value_counts())\n",
    "language"
   ]
  },
  {
   "cell_type": "code",
   "execution_count": null,
   "id": "a8c50a17",
   "metadata": {},
   "outputs": [],
   "source": [
    "Top_5=df['language'].value_counts().head(5)\n",
    "fig, ax = plt.subplots()\n",
    "ax.pie(Top_5.values, labels=Top_5.index)\n",
    "\n",
    "# Set the title of the chart\n",
    "plt.title('Top_5 languages')\n",
    "\n",
    "# Set the aspect ratio to be equal so the pie chart is circular\n",
    "ax.axis('equal')\n",
    "\n",
    "# Remove the labels that overlap\n",
    "plt.legend(Top_5.index, loc=\"best\")\n",
    "\n",
    "# Show the chart\n",
    "plt.show()"
   ]
  },
  {
   "cell_type": "code",
   "execution_count": 15,
   "id": "38b5a0b9",
   "metadata": {},
   "outputs": [],
   "source": [
    "df[\"media\"]=df[\"media\"].str.split(\"[\").str[1]"
   ]
  },
  {
   "cell_type": "code",
   "execution_count": null,
   "id": "61bd6a46",
   "metadata": {},
   "outputs": [],
   "source": [
    "df[\"media_shared\"]=df[\"media\"].str.split(\"(\").str[0]\n",
    "df"
   ]
  },
  {
   "cell_type": "code",
   "execution_count": null,
   "id": "1977d981",
   "metadata": {},
   "outputs": [],
   "source": [
    "media_counts=pd.DataFrame(df['media_shared'].value_counts())\n",
    "media_counts\n"
   ]
  },
  {
   "cell_type": "code",
   "execution_count": null,
   "id": "336a35b3",
   "metadata": {},
   "outputs": [],
   "source": [
    "def plot_bar(x,y,title,x_label,y_label):\n",
    "    fig = go.Figure(data=[go.Bar(\n",
    "                x=x,\n",
    "                y=y,\n",
    "                text=y,\n",
    "                textposition='auto',\n",
    "            )])\n",
    "\n",
    "    fig.update_layout(\n",
    "        title=title,\n",
    "        xaxis_title=x_label,\n",
    "        yaxis_title=y_label\n",
    "    )\n",
    "\n",
    "    fig.show()\n"
   ]
  },
  {
   "cell_type": "code",
   "execution_count": null,
   "id": "fe3c493e",
   "metadata": {},
   "outputs": [],
   "source": [
    "import plotly.graph_objects as go\n",
    "plot_bar(df['User'].value_counts().index[0:20],\n",
    "         df['User'].value_counts().values[0:20],\n",
    "         \"Top 20 Users by the number of tweets\",\n",
    "         \"User\",\n",
    "         \"Tweet Count\")"
   ]
  },
  {
   "cell_type": "code",
   "execution_count": null,
   "id": "8bb3ce0a",
   "metadata": {},
   "outputs": [],
   "source": [
    "plot_bar(df['source of tweet'].value_counts().index[0:20],\n",
    "         df['source of tweet'].value_counts().values[0:20],\n",
    "         \"Top 20 Tweeter Sources by the number of tweets\",\n",
    "         \"Source\",\n",
    "         \"Tweet Count\")\n"
   ]
  },
  {
   "cell_type": "code",
   "execution_count": null,
   "id": "a3e0323f",
   "metadata": {},
   "outputs": [],
   "source": [
    "df3=df.drop([ \"source of tweet\",\"media\",\"mentioned user in tweet\"],axis=1)\n",
    "df3= df3.loc[df3['language']==\"en\"] \n",
    "df3"
   ]
  },
  {
   "cell_type": "markdown",
   "id": "1aa72dd3",
   "metadata": {},
   "source": [
    "# fine grained sentiment analysis "
   ]
  },
  {
   "cell_type": "markdown",
   "id": "5fe917e2",
   "metadata": {},
   "source": [
    "# Beginner technique-VADER\n"
   ]
  },
  {
   "cell_type": "code",
   "execution_count": 22,
   "id": "a69d8b5c",
   "metadata": {},
   "outputs": [],
   "source": [
    "import nltk\n",
    "from nrclex import NRCLex\n",
    "import vaderSentiment\n",
    "# calling SentimentIntensityAnalyzer object\n",
    "from vaderSentiment.vaderSentiment import SentimentIntensityAnalyzer\n",
    "analyser = SentimentIntensityAnalyzer()"
   ]
  },
  {
   "cell_type": "code",
   "execution_count": 23,
   "id": "15da99d6",
   "metadata": {},
   "outputs": [],
   "source": [
    "def sentiment_analyzer_score(sentence):\n",
    "    score = analyser.polarity_scores(sentence)\n",
    "    print(\"{:-<40} {}\".format(sentence, str(score)))"
   ]
  },
  {
   "cell_type": "code",
   "execution_count": null,
   "id": "f9766730",
   "metadata": {},
   "outputs": [],
   "source": [
    "df3['Vader_scores'] = df3['Tweet'].apply(lambda review: analyser.polarity_scores(review))\n",
    "df3.head()\n"
   ]
  },
  {
   "cell_type": "code",
   "execution_count": null,
   "id": "383ac70f",
   "metadata": {},
   "outputs": [],
   "source": [
    "df3['vader_compound']  = df3['Vader_scores'].apply(lambda score_dict: score_dict['compound'])\n",
    "df3['vader_negative']  = df3['Vader_scores'].apply(lambda score_dict: score_dict['neg'])\n",
    "df3['vader_neutral']  = df3['Vader_scores'].apply(lambda score_dict: score_dict['neu'])\n",
    "df3['vader_positive']  = df3['Vader_scores'].apply(lambda score_dict: score_dict['pos'])\n",
    "df3.head()"
   ]
  },
  {
   "cell_type": "code",
   "execution_count": 26,
   "id": "63d2d5bf",
   "metadata": {},
   "outputs": [],
   "source": [
    "def sentiment_analysis2(score):\n",
    "    if score <=-0.8:\n",
    "        return 'extreme negative sentiment'\n",
    "    elif score > -0.8 and score < 0:\n",
    "        return 'weak negative sentiment'\n",
    "    elif score == 0:\n",
    "        return 'Neutral'\n",
    "    elif score >0 and score <0.8 :\n",
    "        return 'Weak positive sentiment'\n",
    "    else: \n",
    "        return 'extreme positive sentiment'"
   ]
  },
  {
   "cell_type": "code",
   "execution_count": null,
   "id": "a2dacbd9",
   "metadata": {},
   "outputs": [],
   "source": [
    "df3['Vader_scores'] = df3['vader_compound'].apply(sentiment_analysis2)\n",
    "df3.head()"
   ]
  },
  {
   "cell_type": "code",
   "execution_count": null,
   "id": "26fe8035",
   "metadata": {},
   "outputs": [],
   "source": [
    "vadersentiment_count = df3['Vader_scores'].value_counts()\n",
    "vadersentiment_count"
   ]
  },
  {
   "cell_type": "markdown",
   "id": "9e2eb716",
   "metadata": {},
   "source": [
    "\n",
    "# Beginner technique-TEXTBLOB:\n",
    "\n"
   ]
  },
  {
   "cell_type": "code",
   "execution_count": null,
   "id": "121703b9",
   "metadata": {},
   "outputs": [],
   "source": [
    "from textblob import TextBlob\n",
    "import unicodedata as uni\n",
    "import re\n",
    "def CleanTxt(text):\n",
    "    text = re.sub(r'@[\\w]+','',text)\n",
    "    text = re.sub(r'#','',text)\n",
    "    text = re.sub(r'RT[\\s]+','',text) # \\s for space and + for one or more\n",
    "    text = re.sub(r'https?:\\/\\/\\S+', '', text)\n",
    "    return text\n",
    "\n",
    "df3[\"Tweet_textblob\"]=df3[\"Tweet\"].apply(CleanTxt)\n",
    "df3.tail()"
   ]
  },
  {
   "cell_type": "code",
   "execution_count": null,
   "id": "86c002ea",
   "metadata": {},
   "outputs": [],
   "source": [
    "def CleanTett(text):\n",
    "    text = uni.normalize('NFKD', text)\n",
    "    text = text.lower() \n",
    "    return text\n",
    "\n",
    "df3[\"Tweet_textblob\"]=df3[\"Tweet_textblob\"].apply(CleanTett)\n",
    "df3.tail()"
   ]
  },
  {
   "cell_type": "code",
   "execution_count": null,
   "id": "b59a912a",
   "metadata": {},
   "outputs": [],
   "source": [
    "from cleantext import clean\n",
    "def emoji_to_text(text):\n",
    "    if type(text) != float:\n",
    "        return clean(text, no_emoji=True)\n",
    "    else:\n",
    "        return text\n",
    "    \n",
    "df3[\"Tweet_textblob\"]=df3[\"Tweet_textblob\"].apply(emoji_to_text)\n",
    "df3"
   ]
  },
  {
   "cell_type": "code",
   "execution_count": 32,
   "id": "7aaa981b",
   "metadata": {},
   "outputs": [],
   "source": [
    "def getSubjectivity(text):\n",
    "    # will get the subjectivity of the tweet\n",
    "    blob = TextBlob(text)\n",
    "    return blob.sentiment.subjectivity"
   ]
  },
  {
   "cell_type": "code",
   "execution_count": 33,
   "id": "e44a3205",
   "metadata": {},
   "outputs": [],
   "source": [
    "def getPolarity(text):\n",
    "    blob = TextBlob(text)\n",
    "    return blob.sentiment.polarity"
   ]
  },
  {
   "cell_type": "code",
   "execution_count": null,
   "id": "044d6f18",
   "metadata": {},
   "outputs": [],
   "source": [
    "df3['subjectivity'] = df3['Tweet_textblob'].apply(getSubjectivity)\n",
    "df3['polarity'] = df3['Tweet_textblob'].apply(getPolarity)\n",
    "df3"
   ]
  },
  {
   "cell_type": "code",
   "execution_count": 35,
   "id": "74a471e8",
   "metadata": {},
   "outputs": [],
   "source": [
    "def sentiment_analysis(score):\n",
    "    if score < 0:\n",
    "        return 'Negative'\n",
    "    elif score == 0:\n",
    "        return 'Neutral'\n",
    "    else:\n",
    "        return 'Positive'"
   ]
  },
  {
   "cell_type": "code",
   "execution_count": null,
   "id": "92f50b76",
   "metadata": {},
   "outputs": [],
   "source": [
    "df3['Text_blobsentiment'] = df3['polarity'].apply(sentiment_analysis)\n",
    "df3.tail()"
   ]
  },
  {
   "cell_type": "code",
   "execution_count": null,
   "id": "c187b8fb",
   "metadata": {},
   "outputs": [],
   "source": [
    "sentiment_count = df3['Text_blobsentiment'].value_counts()\n",
    "sentiment_count"
   ]
  },
  {
   "cell_type": "markdown",
   "id": "c8d769bf",
   "metadata": {},
   "source": [
    "# Advanced technique -transformers(DISTILBERT)\n"
   ]
  },
  {
   "cell_type": "code",
   "execution_count": 52,
   "id": "bbeeb5bf",
   "metadata": {},
   "outputs": [],
   "source": [
    "from transformers import AutoModelForSequenceClassification\n",
    "from transformers import TFAutoModelForSequenceClassification\n",
    "from transformers import AutoTokenizer\n",
    "import numpy as np\n",
    "import torch\n",
    "from scipy.special import softmax\n",
    "import csv\n",
    "import urllib.request"
   ]
  },
  {
   "cell_type": "code",
   "execution_count": 53,
   "id": "3d821f31",
   "metadata": {},
   "outputs": [
    {
     "name": "stderr",
     "output_type": "stream",
     "text": [
      "No model was supplied, defaulted to distilbert-base-uncased-finetuned-sst-2-english and revision af0f99b (https://huggingface.co/distilbert-base-uncased-finetuned-sst-2-english).\n",
      "Using a pipeline without specifying a model name and revision in production is not recommended.\n"
     ]
    }
   ],
   "source": [
    "from transformers import pipeline\n",
    "def FunctiondistBERTSentiment(inpText):\n",
    "    return(SentimentClassifier(inpText)[0]['label'])\n",
    "\n",
    "\n",
    "\n",
    "SentimentClassifier = pipeline(\"sentiment-analysis\")"
   ]
  },
  {
   "cell_type": "code",
   "execution_count": null,
   "id": "d13aaccc",
   "metadata": {},
   "outputs": [],
   "source": [
    "df3['DistilBERT_Sentiment']=df3['Tweet'].apply(FunctiondistBERTSentiment)\n",
    "df3.head()"
   ]
  },
  {
   "cell_type": "code",
   "execution_count": null,
   "id": "e5aec1e9",
   "metadata": {},
   "outputs": [],
   "source": [
    "plt.figure(figsize=(6,6))\n",
    "sns.countplot(x='DistilBERT_Sentiment',data=df3)"
   ]
  },
  {
   "cell_type": "markdown",
   "id": "2b87e371",
   "metadata": {},
   "source": [
    "# WORDCLOUD"
   ]
  },
  {
   "cell_type": "code",
   "execution_count": 56,
   "id": "d744c982",
   "metadata": {},
   "outputs": [],
   "source": [
    "from PIL import Image\n",
    "from wordcloud import WordCloud, STOPWORDS, ImageColorGenerator\n",
    "pd.options.mode.chained_assignment = None"
   ]
  },
  {
   "cell_type": "code",
   "execution_count": null,
   "id": "b257d839",
   "metadata": {},
   "outputs": [],
   "source": [
    "df_positive = ' '.join([Text for Text in df3[df3['DistilBERT_Sentiment']=='POSITIVE']['Tweet_word2vec']])\n",
    "wordcloud = WordCloud(width=800, height=400, background_color=\n",
    "                       \"white\").generate(df_positive)\n",
    "# plot the WordCloud image                        \n",
    "plt.figure(figsize = (8, 8), facecolor = \"yellow\") \n",
    "plt.imshow(wordcloud) \n",
    "plt.axis(\"off\") \n",
    "plt.tight_layout(pad = 0) \n",
    "  \n",
    "plt.show() "
   ]
  },
  {
   "cell_type": "code",
   "execution_count": null,
   "id": "94957d28",
   "metadata": {},
   "outputs": [],
   "source": [
    "df_negative = ' '.join([Text for Text in df3[df3['DistilBERT_Sentiment']=='NEGATIVE']['Tweet_word2vec']])\n",
    "wordcloud = WordCloud(width=800, height=400, background_color=\n",
    "                       \"white\").generate(df_negative)\n",
    "# plot the WordCloud image                        \n",
    "plt.figure(figsize = (8, 8), facecolor = \"yellow\") \n",
    "plt.imshow(wordcloud) \n",
    "plt.axis(\"off\") \n",
    "plt.tight_layout(pad = 0) \n",
    "  \n",
    "plt.show() "
   ]
  },
  {
   "cell_type": "markdown",
   "id": "52ac6971",
   "metadata": {},
   "source": [
    "# EMOTION DETECTION \n",
    "USING NRC LEXICON\n"
   ]
  },
  {
   "cell_type": "code",
   "execution_count": null,
   "id": "2ef62051",
   "metadata": {},
   "outputs": [],
   "source": [
    "def emotion_detection(sentence):\n",
    "    tweett = NRCLex(sentence)\n",
    "    return tweett.affect_dict"
   ]
  },
  {
   "cell_type": "code",
   "execution_count": null,
   "id": "72301f26",
   "metadata": {},
   "outputs": [],
   "source": [
    "df3['affected_dictionary'] = df3['Tweet'].apply(emotion_detection)\n",
    "df3"
   ]
  },
  {
   "cell_type": "code",
   "execution_count": null,
   "id": "62874bd1",
   "metadata": {},
   "outputs": [],
   "source": [
    "def top_emotionse(sentence):\n",
    "\n",
    "        return NRCLex(sentence).top_emotions\n",
    "df3['top_emotions_score'] = df3['Tweet'].apply(top_emotionse)\n",
    "df3"
   ]
  },
  {
   "cell_type": "code",
   "execution_count": null,
   "id": "9a81d88a",
   "metadata": {},
   "outputs": [],
   "source": [
    "def top_emotionss(sentence):\n",
    "    tweett = NRCLex(sentence)\n",
    "    if tweett.top_emotions[0][1] == 0.0:\n",
    "        return \"No emotion\"\n",
    "    else:\n",
    "        return tweett.top_emotions[0][0]\n",
    "df3['top_emotions'] = df3['Tweet'].apply(top_emotionss)\n",
    "df3\n"
   ]
  },
  {
   "cell_type": "code",
   "execution_count": null,
   "id": "0865d117",
   "metadata": {},
   "outputs": [],
   "source": [
    "plt.figure(figsize=(6,6))\n",
    "sns.countplot(x='top_emotions',data=df3)\n",
    "plt.xticks(rotation=70)"
   ]
  },
  {
   "cell_type": "markdown",
   "id": "0459a133",
   "metadata": {},
   "source": [
    "# emotions categorised under bert (positive & negative)\n"
   ]
  },
  {
   "cell_type": "code",
   "execution_count": null,
   "id": "da2f3cb4",
   "metadata": {},
   "outputs": [],
   "source": [
    "df002 = df3.loc[(df3['DistilBERT_Sentiment']=='NEGATIVE')]\n",
    "emotion_Distlbert_negative  = df002['top_emotions'].value_counts()\n",
    "emotion_Distlbert_negative "
   ]
  },
  {
   "cell_type": "code",
   "execution_count": null,
   "id": "82c8940b",
   "metadata": {},
   "outputs": [],
   "source": [
    "df001 = df3.loc[(df3['DistilBERT_Sentiment']=='POSITIVE')]\n",
    "emotion_Distlbert_positive = df001['top_emotions'].value_counts()\n",
    "emotion_Distlbert_positive "
   ]
  },
  {
   "cell_type": "markdown",
   "id": "49a91e5c",
   "metadata": {},
   "source": [
    "# ASPECT BASED SENTIMENT ANALYSIS\n",
    "zero shot classification for identifying potential vulnerable people at the time of crisis\n"
   ]
  },
  {
   "cell_type": "code",
   "execution_count": 75,
   "id": "f0267e20",
   "metadata": {},
   "outputs": [
    {
     "name": "stderr",
     "output_type": "stream",
     "text": [
      "No model was supplied, defaulted to facebook/bart-large-mnli and revision c626438 (https://huggingface.co/facebook/bart-large-mnli).\n",
      "Using a pipeline without specifying a model name and revision in production is not recommended.\n"
     ]
    }
   ],
   "source": [
    "from transformers import pipeline\n",
    "classifier = pipeline(\"zero-shot-classification\")"
   ]
  },
  {
   "cell_type": "code",
   "execution_count": 76,
   "id": "2f2f9304",
   "metadata": {},
   "outputs": [],
   "source": [
    "health_labels = [\"sadness\",'crisis','disorder','pain','optimistic','personal','non-personal']"
   ]
  },
  {
   "cell_type": "code",
   "execution_count": null,
   "id": "2fd681cf",
   "metadata": {},
   "outputs": [],
   "source": [
    "df6 = df3.loc[(df3['top_emotions']==\"sadness\")&(df3['DistilBERT_Sentiment']=='NEGATIVE')]\n",
    "df6"
   ]
  },
  {
   "cell_type": "code",
   "execution_count": 78,
   "id": "f69039e1",
   "metadata": {},
   "outputs": [],
   "source": [
    "def ZERO_SHOT(inpText):\n",
    "    return(classifier( inpText,health_labels))"
   ]
  },
  {
   "cell_type": "code",
   "execution_count": null,
   "id": "01bfa511",
   "metadata": {},
   "outputs": [],
   "source": [
    "df6['health_matters'] = df6['Tweet'].apply(ZERO_SHOT)\n",
    "df6    \n"
   ]
  },
  {
   "cell_type": "code",
   "execution_count": 80,
   "id": "cd108a41",
   "metadata": {},
   "outputs": [],
   "source": [
    "df6.to_excel(\"textfiledf70.xlsx\",sheet_name=\"new_sample\")"
   ]
  }
 ],
 "metadata": {
  "kernelspec": {
   "display_name": "Python 3 (ipykernel)",
   "language": "python",
   "name": "python3"
  },
  "language_info": {
   "codemirror_mode": {
    "name": "ipython",
    "version": 3
   },
   "file_extension": ".py",
   "mimetype": "text/x-python",
   "name": "python",
   "nbconvert_exporter": "python",
   "pygments_lexer": "ipython3",
   "version": "3.9.13"
  }
 },
 "nbformat": 4,
 "nbformat_minor": 5
}
